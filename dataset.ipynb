{
 "cells": [
  {
   "cell_type": "code",
   "execution_count": 3,
   "id": "99bfc2a5",
   "metadata": {},
   "outputs": [
    {
     "name": "stdout",
     "output_type": "stream",
     "text": [
      "   Employee ID            Name   Age Department    Salary\n",
      "0        84288   Molly Johnson  46.0         IT  118377.0\n",
      "1        81651     Brandi Hill  58.0         HR   56542.0\n",
      "2        55037   Joshua Thomas  40.0    Finance   76093.0\n",
      "3        13699    George Terry  53.0      Sales   42896.0\n",
      "4        68662  Anna Wilkinson  45.0      Sales   66665.0\n",
      "Generated employee data with 15000 rows, including missing values.\n"
     ]
    }
   ],
   "source": [
    "import pandas as pd\n",
    "import random\n",
    "import numpy as np\n",
    "from faker import Faker\n",
    "\n",
    "# Initialize Faker for random name generation\n",
    "fake = Faker()\n",
    "\n",
    "# Define departments\n",
    "departments = ['Sales', 'HR', 'IT', 'Marketing', 'Finance', 'Operations', 'Admin']\n",
    "\n",
    "# Function to generate random employee data with possible missing values\n",
    "def generate_employee_data(num_rows):\n",
    "    employee_data = []\n",
    "    for _ in range(num_rows):\n",
    "        emp_id = random.randint(1000, 99999)\n",
    "        name = fake.name()\n",
    "        age = random.randint(20, 60) if random.random() > 0.1 else np.nan  # 10% chance for missing age\n",
    "        department = random.choice(departments) if random.random() > 0.1 else np.nan  # 10% chance for missing department\n",
    "        salary = random.randint(40000, 120000) if random.random() > 0.1 else np.nan  # 10% chance for missing salary\n",
    "        employee_data.append([emp_id, name, age, department, salary])\n",
    "    \n",
    "    # Create a DataFrame from the generated data\n",
    "    df = pd.DataFrame(employee_data, columns=['Employee ID', 'Name', 'Age', 'Department', 'Salary'])\n",
    "    return df\n",
    "\n",
    "# Generate 15,000 rows of employee data with missing values\n",
    "num_rows = 15000\n",
    "employee_df = generate_employee_data(num_rows)\n",
    "\n",
    "# Show the first few rows of the DataFrame with potential missing values\n",
    "print(employee_df.head())\n",
    "\n",
    "# Save to a CSV file (optional)\n",
    "employee_df.to_csv('employee_data_with_nulls.csv', index=False)\n",
    "\n",
    "print(f\"Generated employee data with {len(employee_df)} rows, including missing values.\")\n"
   ]
  }
 ],
 "metadata": {
  "kernelspec": {
   "display_name": ".venv",
   "language": "python",
   "name": "python3"
  },
  "language_info": {
   "codemirror_mode": {
    "name": "ipython",
    "version": 3
   },
   "file_extension": ".py",
   "mimetype": "text/x-python",
   "name": "python",
   "nbconvert_exporter": "python",
   "pygments_lexer": "ipython3",
   "version": "3.12.3"
  }
 },
 "nbformat": 4,
 "nbformat_minor": 5
}
