{
 "cells": [
  {
   "cell_type": "markdown",
   "id": "5b9043d0",
   "metadata": {},
   "source": [
    "#### Problem Statement: Employee Data Analysis\n",
    "    You are tasked with analyzing employee data for a company using PySpark. The dataset contains employee information such as Employee ID, Name, Age, Department, and Salary. Some of the fields have missing values (nulls). Your job is to perform the following tasks to help the company gain insights from the employee data.\n",
    "    Tasks:\n",
    "        1. Data Cleaning:\n",
    "            Load the employee dataset into a PySpark DataFrame.\n",
    "            Handle missing values (null):\n",
    "                Age: Replace missing age values with the average age of all employees.\n",
    "                Department: Replace missing department values with the most frequent department.\n",
    "                Salary: Replace missing salary values with the median salary.\n",
    "\n",
    "        2. Basic Aggregations:\n",
    "            Calculate the average salary and average age for each department.\n",
    "            Find the total salary and total number of employees for each department.\n",
    "            Identify the department with the highest average salary.\n",
    "        \n",
    "        3. Salary Analysis:\n",
    "            Create a new column Salary Range:\n",
    "                If salary < 50,000: \"Low\"\n",
    "                If salary >= 50,000 and < 100,000: \"Medium\"\n",
    "                If salary >= 100,000: \"High\"\n",
    "            Count the number of employees in each salary range.\n",
    "        \n",
    "        4. Age Distribution:\n",
    "            Calculate the average age of employees within each salary range (\"Low\", \"Medium\", \"High\").\n",
    "            Find the youngest and oldest employee in each department.\n",
    "        \n",
    "        5. Employee Classification:\n",
    "            Find out how many employees are older than 50 years and have a salary greater than 80,000. This can be considered as a special group of\n",
    "            senior employees with high salaries.\n",
    "            \n",
    "        6. Missing Value Handling (Advanced):\n",
    "            For departments where the salary column has more than 20% missing values, drop those departments from the dataset.\n",
    "        \n",
    "        7. Save the Results:\n",
    "            Save the cleaned dataset as a new CSV file.\n",
    "            Save the aggregated data (average salary, total salary, etc.) for each department into a new CSV file."
   ]
  },
  {
   "cell_type": "markdown",
   "id": "5dc157df",
   "metadata": {},
   "source": []
  },
  {
   "cell_type": "code",
   "execution_count": 1,
   "id": "98f9ccbe-2197-4cfb-a7bf-3cbeba1b0413",
   "metadata": {},
   "outputs": [
    {
     "name": "stdout",
     "output_type": "stream",
     "text": [
      "Requirement already satisfied: pyspark in /home/sanket/anaconda3/lib/python3.12/site-packages (3.5.5)\n",
      "Requirement already satisfied: py4j==0.10.9.7 in /home/sanket/anaconda3/lib/python3.12/site-packages (from pyspark) (0.10.9.7)\n"
     ]
    }
   ],
   "source": [
    "!pip install pyspark"
   ]
  },
  {
   "cell_type": "code",
   "execution_count": 584,
   "id": "9c21d463-d639-4775-9b90-4ec216e6bb5a",
   "metadata": {},
   "outputs": [],
   "source": [
    "import pyspark"
   ]
  },
  {
   "cell_type": "code",
   "execution_count": 585,
   "id": "22efa9e1-ce9e-427c-af20-05e1d9186a00",
   "metadata": {},
   "outputs": [],
   "source": [
    "from pyspark.sql import SparkSession"
   ]
  },
  {
   "cell_type": "code",
   "execution_count": 586,
   "id": "b8de8a99-6566-442b-88e8-66201db5df10",
   "metadata": {},
   "outputs": [],
   "source": [
    "spark=SparkSession.builder.appName('EmployeeData').getOrCreate()"
   ]
  },
  {
   "cell_type": "code",
   "execution_count": 587,
   "id": "07f854c5-e178-4bf5-8ee9-5e401c5e78e2",
   "metadata": {},
   "outputs": [],
   "source": [
    "df_pyspark=spark.read.option('header','true').csv('dataset.csv',inferSchema=True)"
   ]
  },
  {
   "cell_type": "code",
   "execution_count": 588,
   "id": "31d7ca51-9952-44aa-a50f-e9d55b9485b9",
   "metadata": {
    "scrolled": true
   },
   "outputs": [
    {
     "name": "stdout",
     "output_type": "stream",
     "text": [
      "+-----------+---------------+----+----------+--------+\n",
      "|Employee ID|           Name| Age|Department|  Salary|\n",
      "+-----------+---------------+----+----------+--------+\n",
      "|      84288|  Molly Johnson|46.0|        IT|118377.0|\n",
      "|      81651|    Brandi Hill|58.0|        HR| 56542.0|\n",
      "|      55037|  Joshua Thomas|40.0|   Finance| 76093.0|\n",
      "|      13699|   George Terry|53.0|     Sales| 42896.0|\n",
      "|      68662| Anna Wilkinson|45.0|     Sales| 66665.0|\n",
      "|      22920| Stephen Carter|43.0|   Finance| 57427.0|\n",
      "|      21352|  Tonya Douglas|38.0|        IT| 79765.0|\n",
      "|      53478|   Diane Nelson|53.0|   Finance| 50736.0|\n",
      "|      55742|     Teresa Cox|36.0|     Sales|116550.0|\n",
      "|      38877|  Kendra Cannon|38.0|      NULL|115821.0|\n",
      "|      57660|   Scott Holmes|54.0|Operations| 72615.0|\n",
      "|      79344| Melanie Guzman|44.0|     Sales| 62587.0|\n",
      "|      61879|  James Lindsey|37.0|Operations| 66655.0|\n",
      "|       1841|William Aguirre|NULL|        IT| 64257.0|\n",
      "|      56629|     Ryan Price|42.0|   Finance| 50434.0|\n",
      "|      91602|     Laura Peck|43.0|Operations| 59629.0|\n",
      "|      95222|   Nathan Bruce|59.0|        HR| 84061.0|\n",
      "|      32989|   Robert Ochoa|37.0|        IT| 65098.0|\n",
      "|      55408|   Anthony Hess|35.0|      NULL| 72591.0|\n",
      "|      19957|   Brad Jackson|50.0|     Sales| 76689.0|\n",
      "+-----------+---------------+----+----------+--------+\n",
      "only showing top 20 rows\n",
      "\n"
     ]
    }
   ],
   "source": [
    "df_pyspark.show()"
   ]
  },
  {
   "cell_type": "markdown",
   "id": "a4889a45",
   "metadata": {},
   "source": []
  },
  {
   "cell_type": "markdown",
   "id": "dcc72b30",
   "metadata": {},
   "source": [
    "1. #### Data Cleaning:\n",
    "    -    Load the employee dataset into a PySpark DataFrame.\n",
    "    -    Handle missing values (null):\n",
    "        -    Age: Replace missing age values with the average age of all employees.\n",
    "        -    Department: Replace missing department values with the most frequent department.\n",
    "        -    Salary: Replace missing salary values with the median salary."
   ]
  },
  {
   "cell_type": "code",
   "execution_count": 589,
   "id": "3e7b7297-77cc-489c-ac66-278660e83801",
   "metadata": {},
   "outputs": [],
   "source": [
    "from pyspark.sql.functions import avg,col,round,count,median,sum,when,min,max"
   ]
  },
  {
   "cell_type": "code",
   "execution_count": 590,
   "id": "1325adb4-d8d5-4912-af22-82b2f03e2e90",
   "metadata": {},
   "outputs": [],
   "source": [
    "avg_age = df_pyspark.select(round(avg(\"Age\"))).collect()[0][0]\n",
    "\n",
    "df_filled = df_pyspark.fillna({'Age': avg_age})"
   ]
  },
  {
   "cell_type": "code",
   "execution_count": 591,
   "id": "cc880dea-a2be-4bce-b63d-b94e3687d24a",
   "metadata": {},
   "outputs": [
    {
     "name": "stdout",
     "output_type": "stream",
     "text": [
      "+-----------+---------------+----+----------+--------+\n",
      "|Employee ID|           Name| Age|Department|  Salary|\n",
      "+-----------+---------------+----+----------+--------+\n",
      "|      84288|  Molly Johnson|46.0|        IT|118377.0|\n",
      "|      81651|    Brandi Hill|58.0|        HR| 56542.0|\n",
      "|      55037|  Joshua Thomas|40.0|   Finance| 76093.0|\n",
      "|      13699|   George Terry|53.0|     Sales| 42896.0|\n",
      "|      68662| Anna Wilkinson|45.0|     Sales| 66665.0|\n",
      "|      22920| Stephen Carter|43.0|   Finance| 57427.0|\n",
      "|      21352|  Tonya Douglas|38.0|        IT| 79765.0|\n",
      "|      53478|   Diane Nelson|53.0|   Finance| 50736.0|\n",
      "|      55742|     Teresa Cox|36.0|     Sales|116550.0|\n",
      "|      38877|  Kendra Cannon|38.0|      NULL|115821.0|\n",
      "|      57660|   Scott Holmes|54.0|Operations| 72615.0|\n",
      "|      79344| Melanie Guzman|44.0|     Sales| 62587.0|\n",
      "|      61879|  James Lindsey|37.0|Operations| 66655.0|\n",
      "|       1841|William Aguirre|40.0|        IT| 64257.0|\n",
      "|      56629|     Ryan Price|42.0|   Finance| 50434.0|\n",
      "|      91602|     Laura Peck|43.0|Operations| 59629.0|\n",
      "|      95222|   Nathan Bruce|59.0|        HR| 84061.0|\n",
      "|      32989|   Robert Ochoa|37.0|        IT| 65098.0|\n",
      "|      55408|   Anthony Hess|35.0|      NULL| 72591.0|\n",
      "|      19957|   Brad Jackson|50.0|     Sales| 76689.0|\n",
      "+-----------+---------------+----+----------+--------+\n",
      "only showing top 20 rows\n",
      "\n"
     ]
    }
   ],
   "source": [
    "df_filled.show()"
   ]
  },
  {
   "cell_type": "code",
   "execution_count": 592,
   "id": "d8e8ddbd-677f-4378-89b3-dc7a9424c246",
   "metadata": {},
   "outputs": [],
   "source": [
    "most_frequent_department = df_pyspark.groupBy(\"Department\").agg(\n",
    "    count(\"*\").alias(\"count\")\n",
    ").orderBy(col(\"count\").desc()).first()[0]\n",
    "\n",
    "df_filled = df_filled.fillna({'Department' : most_frequent_department})"
   ]
  },
  {
   "cell_type": "code",
   "execution_count": 593,
   "id": "9d2d183c-ad1c-4b8f-8b6e-8ab871eb8926",
   "metadata": {},
   "outputs": [
    {
     "name": "stdout",
     "output_type": "stream",
     "text": [
      "+-----------+---------------+----+----------+--------+\n",
      "|Employee ID|           Name| Age|Department|  Salary|\n",
      "+-----------+---------------+----+----------+--------+\n",
      "|      84288|  Molly Johnson|46.0|        IT|118377.0|\n",
      "|      81651|    Brandi Hill|58.0|        HR| 56542.0|\n",
      "|      55037|  Joshua Thomas|40.0|   Finance| 76093.0|\n",
      "|      13699|   George Terry|53.0|     Sales| 42896.0|\n",
      "|      68662| Anna Wilkinson|45.0|     Sales| 66665.0|\n",
      "|      22920| Stephen Carter|43.0|   Finance| 57427.0|\n",
      "|      21352|  Tonya Douglas|38.0|        IT| 79765.0|\n",
      "|      53478|   Diane Nelson|53.0|   Finance| 50736.0|\n",
      "|      55742|     Teresa Cox|36.0|     Sales|116550.0|\n",
      "|      38877|  Kendra Cannon|38.0|   Finance|115821.0|\n",
      "|      57660|   Scott Holmes|54.0|Operations| 72615.0|\n",
      "|      79344| Melanie Guzman|44.0|     Sales| 62587.0|\n",
      "|      61879|  James Lindsey|37.0|Operations| 66655.0|\n",
      "|       1841|William Aguirre|40.0|        IT| 64257.0|\n",
      "|      56629|     Ryan Price|42.0|   Finance| 50434.0|\n",
      "|      91602|     Laura Peck|43.0|Operations| 59629.0|\n",
      "|      95222|   Nathan Bruce|59.0|        HR| 84061.0|\n",
      "|      32989|   Robert Ochoa|37.0|        IT| 65098.0|\n",
      "|      55408|   Anthony Hess|35.0|   Finance| 72591.0|\n",
      "|      19957|   Brad Jackson|50.0|     Sales| 76689.0|\n",
      "+-----------+---------------+----+----------+--------+\n",
      "only showing top 20 rows\n",
      "\n"
     ]
    }
   ],
   "source": [
    "df_filled.show()"
   ]
  },
  {
   "cell_type": "code",
   "execution_count": 594,
   "id": "f666a7b8-1aae-4e3a-9589-081e58a76138",
   "metadata": {},
   "outputs": [
    {
     "name": "stdout",
     "output_type": "stream",
     "text": [
      "+-----------+-------------------+----+----------+------+\n",
      "|Employee ID|               Name| Age|Department|Salary|\n",
      "+-----------+-------------------+----+----------+------+\n",
      "|       1092|        Debra Jones|59.0|Operations|  NULL|\n",
      "|       1108|     Tiffany Murphy|21.0|     Sales|  NULL|\n",
      "|       1137|     William Morgan|44.0|        IT|  NULL|\n",
      "|       1168|    James Baker PhD|41.0|     Admin|  NULL|\n",
      "|       1190|      Leslie Tucker|26.0|   Finance|  NULL|\n",
      "|       1370|Christine Patterson|29.0|     Sales|  NULL|\n",
      "|       1571|     Sarah Stephens|40.0|Operations|  NULL|\n",
      "|       1620|   Christine Oliver|43.0|     Admin|  NULL|\n",
      "|       1716|     Kristen Barron|51.0|   Finance|  NULL|\n",
      "|       1894|     Anthony Bishop|35.0|        HR|  NULL|\n",
      "|       1930|       Jasmine Dunn|42.0| Marketing|  NULL|\n",
      "|       1936|       Amanda Clark|27.0|        IT|  NULL|\n",
      "|       1997|           Ann Wolf|36.0|     Sales|  NULL|\n",
      "|       2250|       Susan Parker|50.0|   Finance|  NULL|\n",
      "|       2318|    Anthony Mueller|38.0|     Sales|  NULL|\n",
      "|       2463|      Debra Roberts|53.0|        HR|  NULL|\n",
      "|       2525|     Patrick Kelley|32.0|        HR|  NULL|\n",
      "|       2536|       Ernest Allen|56.0| Marketing|  NULL|\n",
      "|       2793|     Alexis Morales|50.0|        IT|  NULL|\n",
      "|       2907|      Dennis Howard|28.0|        HR|  NULL|\n",
      "+-----------+-------------------+----+----------+------+\n",
      "only showing top 20 rows\n",
      "\n"
     ]
    }
   ],
   "source": [
    "df_filled.orderBy(\"Salary\",\"Employee ID\").show()"
   ]
  },
  {
   "cell_type": "code",
   "execution_count": 595,
   "id": "b1d51847-d3b8-4768-8fa4-db66191dd09d",
   "metadata": {
    "scrolled": true
   },
   "outputs": [],
   "source": [
    "median_salary = df_pyspark.select(\n",
    "    median(col(\"Salary\"))\n",
    ").collect()[0][0]\n",
    "\n",
    "df_filled = df_filled.fillna({'Salary' : median_salary}).orderBy(\"Employee ID\")"
   ]
  },
  {
   "cell_type": "code",
   "execution_count": 596,
   "id": "64d3beb6-37e2-4afb-9d69-f7806c3fddd2",
   "metadata": {},
   "outputs": [
    {
     "name": "stdout",
     "output_type": "stream",
     "text": [
      "+-----------+-----------------+----+----------+--------+\n",
      "|Employee ID|             Name| Age|Department|  Salary|\n",
      "+-----------+-----------------+----+----------+--------+\n",
      "|       1008|  Mr. Ruben Evans|49.0|        HR| 93548.0|\n",
      "|       1020|     Ernest Gates|26.0|   Finance| 83361.0|\n",
      "|       1022|   Michael Hudson|40.0| Marketing| 91849.0|\n",
      "|       1023|       Kevin Ryan|35.0|Operations| 99448.0|\n",
      "|       1023|  Austin Crawford|41.0|        IT| 55821.0|\n",
      "|       1024|    Sandy Aguilar|26.0|   Finance| 99213.0|\n",
      "|       1036|        Isaac Day|42.0| Marketing| 52637.0|\n",
      "|       1036|Andrew Richardson|24.0|   Finance| 79727.0|\n",
      "|       1039| Shannon Saunders|27.0|   Finance|101054.0|\n",
      "|       1045|   William Tucker|53.0|     Sales| 65766.0|\n",
      "|       1064|   Jeffery Nguyen|34.0|   Finance| 44352.0|\n",
      "|       1070| Shannon Davidson|42.0|        HR| 40568.0|\n",
      "|       1072|    Beth Johnston|34.0|     Admin| 68985.0|\n",
      "|       1081|   Derrick Jacobs|40.0|     Admin| 58839.0|\n",
      "|       1082|      Angela Gray|49.0|        IT| 71385.0|\n",
      "|       1084|       David Hale|34.0|        IT|112882.0|\n",
      "|       1090|    Shannon Reyes|58.0|Operations| 66847.0|\n",
      "|       1092|      Debra Jones|59.0|Operations| 79859.0|\n",
      "|       1106|     Andrea Lopez|40.0|   Finance| 47246.0|\n",
      "|       1108|   Tiffany Murphy|21.0|     Sales| 79859.0|\n",
      "+-----------+-----------------+----+----------+--------+\n",
      "only showing top 20 rows\n",
      "\n"
     ]
    }
   ],
   "source": [
    "df_filled.show()"
   ]
  },
  {
   "cell_type": "markdown",
   "id": "73512e7f",
   "metadata": {},
   "source": []
  },
  {
   "cell_type": "markdown",
   "id": "e1425817",
   "metadata": {},
   "source": [
    "2. #### Basic Aggregations:\n",
    "-        Calculate the average salary and average age for each department.\n",
    "-        Find the total salary and total number of employees for each department.\n",
    "-        Identify the department with the highest average salary."
   ]
  },
  {
   "cell_type": "code",
   "execution_count": 597,
   "id": "c10a408d-eb09-4208-9340-78a7b5f477a1",
   "metadata": {},
   "outputs": [
    {
     "name": "stdout",
     "output_type": "stream",
     "text": [
      "+----------+------------------+-----------------+\n",
      "|Department|       Average Age|   Average Salary|\n",
      "+----------+------------------+-----------------+\n",
      "|     Sales| 40.02879177377892|80341.38920308484|\n",
      "|        HR|40.236609464378574| 80241.6219448778|\n",
      "|   Finance| 40.05416078984485|79343.85049365304|\n",
      "|     Admin|39.787862513426425|79349.33780880773|\n",
      "| Marketing| 39.74038461538461|80107.61805555556|\n",
      "|        IT| 39.57010785824345|80660.37339496662|\n",
      "|Operations| 40.22193074501574|79993.11909758658|\n",
      "+----------+------------------+-----------------+\n",
      "\n"
     ]
    }
   ],
   "source": [
    "department_avg_data = df_filled.groupBy(\"Department\").agg(\n",
    "    avg(\"Age\").alias(\"Average Age\"),\n",
    "    avg(\"Salary\").alias(\"Average Salary\")\n",
    ").show()"
   ]
  },
  {
   "cell_type": "code",
   "execution_count": 598,
   "id": "bc94ba52-035a-400e-8548-aafb910d3e64",
   "metadata": {},
   "outputs": [
    {
     "name": "stdout",
     "output_type": "stream",
     "text": [
      "+----------+------------+---------------+\n",
      "|Department|Total Salary|Total Employees|\n",
      "+----------+------------+---------------+\n",
      "|     Sales|1.56264002E8|           1945|\n",
      "|        HR|1.54304639E8|           1923|\n",
      "|   Finance| 2.8127395E8|           3545|\n",
      "|     Admin|1.47748467E8|           1862|\n",
      "| Marketing|1.49961461E8|           1872|\n",
      "|        IT|1.57045747E8|           1947|\n",
      "|Operations|1.52466885E8|           1906|\n",
      "+----------+------------+---------------+\n",
      "\n"
     ]
    }
   ],
   "source": [
    "department_total_data = df_filled.groupBy(\"Department\").agg(\n",
    "    sum(\"Salary\").alias(\"Total Salary\"),\n",
    "    count(\"Employee ID\").alias(\"Total Employees\")\n",
    ").show()"
   ]
  },
  {
   "cell_type": "code",
   "execution_count": 625,
   "id": "93b52fb3-671c-4c03-8859-04a1f0160c35",
   "metadata": {},
   "outputs": [
    {
     "name": "stdout",
     "output_type": "stream",
     "text": [
      "Row(Department='IT', Average Salary=80660.37339496662)\n"
     ]
    }
   ],
   "source": [
    "department_highest_avg_salary = print(df_filled.groupBy(\"Department\").agg(\n",
    "    avg(\"Salary\").alias(\"Average Salary\")\n",
    ").orderBy(col(\"Average Salary\").desc()).first())"
   ]
  },
  {
   "cell_type": "markdown",
   "id": "d446ed86",
   "metadata": {},
   "source": []
  },
  {
   "cell_type": "markdown",
   "id": "f2c930b7",
   "metadata": {},
   "source": [
    "3. #### Salary Analysis:\n",
    "    -    Create a new column Salary Range:\n",
    "        -    If salary < 50,000: \"Low\"\n",
    "        -    If salary >= 50,000 and < 100,000: \"Medium\"\n",
    "        -    If salary >= 100,000: \"High\"\n",
    "    -    Count the number of employees in each salary range."
   ]
  },
  {
   "cell_type": "code",
   "execution_count": 599,
   "id": "d3007700-a4b5-4944-a9e3-9a407b51f7ce",
   "metadata": {},
   "outputs": [],
   "source": [
    "df_filled = df_filled.withColumn(\"Salary Range\",when(df_filled[\"Salary\"] < 50000,\"Low\")\n",
    "                                                .when(df_filled[\"Salary\"] >= 100000,\"High\")\n",
    "                                                .otherwise(\"Medium\"))\n"
   ]
  },
  {
   "cell_type": "code",
   "execution_count": 600,
   "id": "315f719b-d725-4099-bd79-9d9bd89c091c",
   "metadata": {},
   "outputs": [
    {
     "name": "stdout",
     "output_type": "stream",
     "text": [
      "+-----------+-----------------+----+----------+--------+------------+\n",
      "|Employee ID|             Name| Age|Department|  Salary|Salary Range|\n",
      "+-----------+-----------------+----+----------+--------+------------+\n",
      "|       1008|  Mr. Ruben Evans|49.0|        HR| 93548.0|      Medium|\n",
      "|       1020|     Ernest Gates|26.0|   Finance| 83361.0|      Medium|\n",
      "|       1022|   Michael Hudson|40.0| Marketing| 91849.0|      Medium|\n",
      "|       1023|       Kevin Ryan|35.0|Operations| 99448.0|      Medium|\n",
      "|       1023|  Austin Crawford|41.0|        IT| 55821.0|      Medium|\n",
      "|       1024|    Sandy Aguilar|26.0|   Finance| 99213.0|      Medium|\n",
      "|       1036|        Isaac Day|42.0| Marketing| 52637.0|      Medium|\n",
      "|       1036|Andrew Richardson|24.0|   Finance| 79727.0|      Medium|\n",
      "|       1039| Shannon Saunders|27.0|   Finance|101054.0|        High|\n",
      "|       1045|   William Tucker|53.0|     Sales| 65766.0|      Medium|\n",
      "|       1064|   Jeffery Nguyen|34.0|   Finance| 44352.0|         Low|\n",
      "|       1070| Shannon Davidson|42.0|        HR| 40568.0|         Low|\n",
      "|       1072|    Beth Johnston|34.0|     Admin| 68985.0|      Medium|\n",
      "|       1081|   Derrick Jacobs|40.0|     Admin| 58839.0|      Medium|\n",
      "|       1082|      Angela Gray|49.0|        IT| 71385.0|      Medium|\n",
      "|       1084|       David Hale|34.0|        IT|112882.0|        High|\n",
      "|       1090|    Shannon Reyes|58.0|Operations| 66847.0|      Medium|\n",
      "|       1092|      Debra Jones|59.0|Operations| 79859.0|      Medium|\n",
      "|       1106|     Andrea Lopez|40.0|   Finance| 47246.0|         Low|\n",
      "|       1108|   Tiffany Murphy|21.0|     Sales| 79859.0|      Medium|\n",
      "+-----------+-----------------+----+----------+--------+------------+\n",
      "only showing top 20 rows\n",
      "\n"
     ]
    }
   ],
   "source": [
    "df_filled.show()"
   ]
  },
  {
   "cell_type": "code",
   "execution_count": 601,
   "id": "8f418a62-8be5-4a46-b012-902265ce551a",
   "metadata": {},
   "outputs": [
    {
     "name": "stdout",
     "output_type": "stream",
     "text": [
      "+------------+------------------------------+\n",
      "|Salary Range|Total Employee in Salary Range|\n",
      "+------------+------------------------------+\n",
      "|        High|                          3370|\n",
      "|         Low|                          1670|\n",
      "|      Medium|                          9960|\n",
      "+------------+------------------------------+\n",
      "\n"
     ]
    }
   ],
   "source": [
    "salary_range_total_employee = df_filled.groupBy(\"Salary Range\").agg(\n",
    "    count(\"Employee ID\").alias(\"Total Employee in Salary Range\")\n",
    ").show()"
   ]
  },
  {
   "cell_type": "markdown",
   "id": "fb72e14e",
   "metadata": {},
   "source": []
  },
  {
   "cell_type": "markdown",
   "id": "bd0eb5fd",
   "metadata": {},
   "source": [
    "4. #### Age Distribution:\n",
    "    -    Calculate the average age of employees within each salary range (\"Low\", \"Medium\", \"High\").\n",
    "    -    Find the youngest and oldest employee in each department."
   ]
  },
  {
   "cell_type": "code",
   "execution_count": 602,
   "id": "fe975844-2e29-44bb-aba1-265add74ba20",
   "metadata": {},
   "outputs": [
    {
     "name": "stdout",
     "output_type": "stream",
     "text": [
      "+------------+---------------------------+\n",
      "|Salary Range|Average Age in Salary Range|\n",
      "+------------+---------------------------+\n",
      "|        High|          39.90652818991098|\n",
      "|         Low|          39.80419161676647|\n",
      "|      Medium|          40.00502008032129|\n",
      "+------------+---------------------------+\n",
      "\n"
     ]
    }
   ],
   "source": [
    "salary_range_average_age = df_filled.groupBy(\"Salary Range\").agg(\n",
    "    avg(\"Age\").alias(\"Average Age in Salary Range\")\n",
    ").show()"
   ]
  },
  {
   "cell_type": "code",
   "execution_count": 603,
   "id": "b2d5dd8d-f40e-4e9c-b2e3-8ab7e7c58bfc",
   "metadata": {},
   "outputs": [],
   "source": [
    "from pyspark.sql.window import Window\n",
    "from pyspark.sql.functions import row_number,asc,desc\n",
    "\n",
    "youngest = Window.partitionBy(\"Department\").orderBy(asc(\"Age\"))\n",
    "oldest = Window.partitionBy(\"Department\").orderBy(desc(\"Age\"))\n",
    "\n",
    "df_youngest = df_filled.withColumn(\"Rank1\",row_number().over(youngest)\n",
    "                                  ).filter(col(\"Rank1\")==1\n",
    "                                          ).drop(\"Rank1\").withColumn(\"Youngest of Department\",col(\"Department\"))"
   ]
  },
  {
   "cell_type": "code",
   "execution_count": 604,
   "id": "12a11a03-c0d3-47fb-af54-5c0c79535a15",
   "metadata": {
    "scrolled": true
   },
   "outputs": [
    {
     "name": "stdout",
     "output_type": "stream",
     "text": [
      "+-----------+------------------+----+----------+--------+------------+----------------------+\n",
      "|Employee ID|              Name| Age|Department|  Salary|Salary Range|Youngest of Department|\n",
      "+-----------+------------------+----+----------+--------+------------+----------------------+\n",
      "|       1346|   Shannon Sampson|20.0|     Admin| 88243.0|      Medium|                 Admin|\n",
      "|       2397|       Laura Henry|20.0|   Finance|109179.0|        High|               Finance|\n",
      "|       2041|      Robert Smith|20.0|        HR| 86699.0|      Medium|                    HR|\n",
      "|      10431|    Matthew Wright|20.0|        IT| 61410.0|      Medium|                    IT|\n",
      "|       1156|Kimberly Hernandez|20.0| Marketing|100166.0|        High|             Marketing|\n",
      "|       2285|    Matthew Steele|20.0|Operations| 44055.0|         Low|            Operations|\n",
      "|       7245|     Antonio Baker|20.0|     Sales| 72175.0|      Medium|                 Sales|\n",
      "+-----------+------------------+----+----------+--------+------------+----------------------+\n",
      "\n"
     ]
    }
   ],
   "source": [
    "df_youngest.show()"
   ]
  },
  {
   "cell_type": "code",
   "execution_count": 605,
   "id": "767e9eea-bf45-4277-8c48-e21cb054db7b",
   "metadata": {},
   "outputs": [],
   "source": [
    "df_oldest = df_filled.withColumn(\"Rank2\",row_number().over(oldest)\n",
    "                                  ).filter(col(\"Rank2\")==1\n",
    "                                          ).drop(\"Rank2\").withColumn(\"Oldest of Department\",col(\"Department\"))"
   ]
  },
  {
   "cell_type": "code",
   "execution_count": 606,
   "id": "3ff48a54-c78d-475a-a332-10fba0a71063",
   "metadata": {},
   "outputs": [
    {
     "name": "stdout",
     "output_type": "stream",
     "text": [
      "+-----------+----------------+----+----------+--------+------------+--------------------+\n",
      "|Employee ID|            Name| Age|Department|  Salary|Salary Range|Oldest of Department|\n",
      "+-----------+----------------+----+----------+--------+------------+--------------------+\n",
      "|       5040|   Carrie Reeves|60.0|     Admin| 51103.0|      Medium|               Admin|\n",
      "|       1387|   Jeffrey Kelly|60.0|   Finance| 57401.0|      Medium|             Finance|\n",
      "|       1788|     Cory Torres|60.0|        HR| 98977.0|      Medium|                  HR|\n",
      "|      11906|   Donna Salazar|60.0|        IT|116123.0|        High|                  IT|\n",
      "|       2063|   Amber Rosario|60.0| Marketing|113749.0|        High|           Marketing|\n",
      "|       4066|  Samuel Hopkins|60.0|Operations| 83436.0|      Medium|          Operations|\n",
      "|       7438|Selena Valentine|60.0|     Sales|114452.0|        High|               Sales|\n",
      "+-----------+----------------+----+----------+--------+------------+--------------------+\n",
      "\n"
     ]
    }
   ],
   "source": [
    "df_oldest.show()"
   ]
  },
  {
   "cell_type": "markdown",
   "id": "40d402fb",
   "metadata": {},
   "source": []
  },
  {
   "cell_type": "markdown",
   "id": "43592711",
   "metadata": {},
   "source": [
    "5. #### Employee Classification:\n",
    "    -    Find out how many employees are older than 50 years and have a salary greater than 80,000. This can be considered as a special group of senior employees with high salaries."
   ]
  },
  {
   "cell_type": "code",
   "execution_count": 607,
   "id": "f08b5ea8-6a5d-41d0-b648-12f9b8fec5f1",
   "metadata": {},
   "outputs": [],
   "source": [
    "df_cleaned = df_filled.withColumn(\"Senior Employee with High Salaries\",\n",
    "                                                         when((df_filled.Age > 50) &\n",
    "                                                          (df_filled.Salary > 80000), \"True\").otherwise(\"False\"))"
   ]
  },
  {
   "cell_type": "code",
   "execution_count": 611,
   "id": "b21cdbd6-6c8e-4052-9c6d-493e34db2b7b",
   "metadata": {},
   "outputs": [
    {
     "name": "stdout",
     "output_type": "stream",
     "text": [
      "+-----------+-----------------+----+----------+--------+------------+----------------------------------+\n",
      "|Employee ID|             Name| Age|Department|  Salary|Salary Range|Senior Employee with High Salaries|\n",
      "+-----------+-----------------+----+----------+--------+------------+----------------------------------+\n",
      "|       1008|  Mr. Ruben Evans|49.0|        HR| 93548.0|      Medium|                             False|\n",
      "|       1020|     Ernest Gates|26.0|   Finance| 83361.0|      Medium|                             False|\n",
      "|       1022|   Michael Hudson|40.0| Marketing| 91849.0|      Medium|                             False|\n",
      "|       1023|       Kevin Ryan|35.0|Operations| 99448.0|      Medium|                             False|\n",
      "|       1023|  Austin Crawford|41.0|        IT| 55821.0|      Medium|                             False|\n",
      "|       1024|    Sandy Aguilar|26.0|   Finance| 99213.0|      Medium|                             False|\n",
      "|       1036|        Isaac Day|42.0| Marketing| 52637.0|      Medium|                             False|\n",
      "|       1036|Andrew Richardson|24.0|   Finance| 79727.0|      Medium|                             False|\n",
      "|       1039| Shannon Saunders|27.0|   Finance|101054.0|        High|                             False|\n",
      "|       1045|   William Tucker|53.0|     Sales| 65766.0|      Medium|                             False|\n",
      "|       1064|   Jeffery Nguyen|34.0|   Finance| 44352.0|         Low|                             False|\n",
      "|       1070| Shannon Davidson|42.0|        HR| 40568.0|         Low|                             False|\n",
      "|       1072|    Beth Johnston|34.0|     Admin| 68985.0|      Medium|                             False|\n",
      "|       1081|   Derrick Jacobs|40.0|     Admin| 58839.0|      Medium|                             False|\n",
      "|       1082|      Angela Gray|49.0|        IT| 71385.0|      Medium|                             False|\n",
      "|       1084|       David Hale|34.0|        IT|112882.0|        High|                             False|\n",
      "|       1090|    Shannon Reyes|58.0|Operations| 66847.0|      Medium|                             False|\n",
      "|       1092|      Debra Jones|59.0|Operations| 79859.0|      Medium|                             False|\n",
      "|       1106|     Andrea Lopez|40.0|   Finance| 47246.0|         Low|                             False|\n",
      "|       1108|   Tiffany Murphy|21.0|     Sales| 79859.0|      Medium|                             False|\n",
      "+-----------+-----------------+----+----------+--------+------------+----------------------------------+\n",
      "only showing top 20 rows\n",
      "\n"
     ]
    }
   ],
   "source": [
    "df_cleaned.show()"
   ]
  },
  {
   "cell_type": "code",
   "execution_count": 618,
   "id": "f3c36b74-6a50-409f-bed1-962c12bbffdb",
   "metadata": {},
   "outputs": [
    {
     "name": "stdout",
     "output_type": "stream",
     "text": [
      "+----------------------------------+----------------------------------------+\n",
      "|Senior Employee with High Salaries|Total Senior Employee with High Salaries|\n",
      "+----------------------------------+----------------------------------------+\n",
      "|                              True|                                    1490|\n",
      "+----------------------------------+----------------------------------------+\n",
      "\n"
     ]
    }
   ],
   "source": [
    "total_senior_emp_with_high_salaries = df_cleaned.groupBy(\"Senior Employee with High Salaries\").agg(\n",
    "                                            count(\"Employee ID\").alias(\"Total Senior Employee with High Salaries\")\n",
    "                                      ).filter(col(\"Senior Employee with High Salaries\")==True\n",
    "                                    ).show()"
   ]
  },
  {
   "cell_type": "markdown",
   "id": "3b4c6bac",
   "metadata": {},
   "source": []
  },
  {
   "cell_type": "markdown",
   "id": "039e0c62",
   "metadata": {},
   "source": [
    "6. #### Missing Value Handling :\n",
    "    -    For departments where the salary column has more than 20% missing values, drop those departments from the dataset."
   ]
  },
  {
   "cell_type": "code",
   "execution_count": 537,
   "id": "01a51fc2-4a17-4ba0-9eba-0bb8665955c2",
   "metadata": {},
   "outputs": [],
   "source": [
    "df_dummy = df_filled"
   ]
  },
  {
   "cell_type": "code",
   "execution_count": 538,
   "id": "9208e1e4-895d-4937-adb6-5095d5c0e1b9",
   "metadata": {},
   "outputs": [],
   "source": [
    "total_department_employee = Window.partitionBy(\"Department\")\n",
    "df_with_count = df_dummy.withColumn(\"Total Employee in Department\", count(\"*\").over(total_department_employee))"
   ]
  },
  {
   "cell_type": "code",
   "execution_count": 539,
   "id": "c24d0566-648c-4a4b-9fe8-3e586b343059",
   "metadata": {
    "scrolled": true
   },
   "outputs": [
    {
     "name": "stdout",
     "output_type": "stream",
     "text": [
      "+-----------+----------------+----+----------+--------+----------------------------+\n",
      "|Employee ID|            Name| Age|Department|  Salary|Total Employee in Department|\n",
      "+-----------+----------------+----+----------+--------+----------------------------+\n",
      "|      72076|   Yvonne Oliver|48.0|     Admin| 62671.0|                        1862|\n",
      "|      44431| Kenneth Francis|47.0|     Admin| 99175.0|                        1862|\n",
      "|      10402|   Gregory Cowan|44.0|     Admin|    NULL|                        1862|\n",
      "|       9997|   Randy Richard|55.0|     Admin|    NULL|                        1862|\n",
      "|      56698|     April Lopez|35.0|     Admin| 61424.0|                        1862|\n",
      "|       6150|    Angela Munoz|40.0|     Admin|103548.0|                        1862|\n",
      "|      97874|  James Stephens|34.0|     Admin|108703.0|                        1862|\n",
      "|       4399|   Linda Oconnor|35.0|     Admin| 50923.0|                        1862|\n",
      "|      77529|  Jeffery Dalton|54.0|     Admin| 69349.0|                        1862|\n",
      "|      74707|Jennifer Shaffer|60.0|     Admin| 69489.0|                        1862|\n",
      "|      22716|    Heidi Nelson|46.0|     Admin| 78320.0|                        1862|\n",
      "|       8009|Richard Shepherd|50.0|     Admin|    NULL|                        1862|\n",
      "|      29965|    Denise Brown|41.0|     Admin| 83613.0|                        1862|\n",
      "|      46164|  Jonathan Young|20.0|     Admin| 92920.0|                        1862|\n",
      "|      82920|   David Osborne|34.0|     Admin| 58779.0|                        1862|\n",
      "|      36616|   Alexander Ray|60.0|     Admin| 98927.0|                        1862|\n",
      "|      46682|    Michael Rose|59.0|     Admin|    NULL|                        1862|\n",
      "|      64810|Victoria Sellers|36.0|     Admin| 89855.0|                        1862|\n",
      "|      53833|Christopher Leon|21.0|     Admin|101050.0|                        1862|\n",
      "|      33485|  Leonard Moreno|26.0|     Admin|107272.0|                        1862|\n",
      "+-----------+----------------+----+----------+--------+----------------------------+\n",
      "only showing top 20 rows\n",
      "\n"
     ]
    }
   ],
   "source": [
    "df_with_count.show()"
   ]
  },
  {
   "cell_type": "code",
   "execution_count": 540,
   "id": "ca020937-f0ab-4d16-a39c-a5b6cff5f98e",
   "metadata": {},
   "outputs": [],
   "source": [
    "df_with_count = df_with_count.withColumn(\"Total Null Salary Count\",\n",
    "                                   count(when(col(\"Salary\").isNull(),True)).over(total_department_employee)\n",
    "                                   )"
   ]
  },
  {
   "cell_type": "code",
   "execution_count": 541,
   "id": "8510d905-bb17-4c7d-9ea5-4297a6aa2188",
   "metadata": {},
   "outputs": [
    {
     "name": "stdout",
     "output_type": "stream",
     "text": [
      "+-----------+----------------+----+----------+--------+----------------------------+-----------------------+\n",
      "|Employee ID|            Name| Age|Department|  Salary|Total Employee in Department|Total Null Salary Count|\n",
      "+-----------+----------------+----+----------+--------+----------------------------+-----------------------+\n",
      "|      72076|   Yvonne Oliver|48.0|     Admin| 62671.0|                        1862|                    197|\n",
      "|      44431| Kenneth Francis|47.0|     Admin| 99175.0|                        1862|                    197|\n",
      "|      10402|   Gregory Cowan|44.0|     Admin|    NULL|                        1862|                    197|\n",
      "|       9997|   Randy Richard|55.0|     Admin|    NULL|                        1862|                    197|\n",
      "|      56698|     April Lopez|35.0|     Admin| 61424.0|                        1862|                    197|\n",
      "|       6150|    Angela Munoz|40.0|     Admin|103548.0|                        1862|                    197|\n",
      "|      97874|  James Stephens|34.0|     Admin|108703.0|                        1862|                    197|\n",
      "|       4399|   Linda Oconnor|35.0|     Admin| 50923.0|                        1862|                    197|\n",
      "|      77529|  Jeffery Dalton|54.0|     Admin| 69349.0|                        1862|                    197|\n",
      "|      74707|Jennifer Shaffer|60.0|     Admin| 69489.0|                        1862|                    197|\n",
      "|      22716|    Heidi Nelson|46.0|     Admin| 78320.0|                        1862|                    197|\n",
      "|       8009|Richard Shepherd|50.0|     Admin|    NULL|                        1862|                    197|\n",
      "|      29965|    Denise Brown|41.0|     Admin| 83613.0|                        1862|                    197|\n",
      "|      46164|  Jonathan Young|20.0|     Admin| 92920.0|                        1862|                    197|\n",
      "|      82920|   David Osborne|34.0|     Admin| 58779.0|                        1862|                    197|\n",
      "|      36616|   Alexander Ray|60.0|     Admin| 98927.0|                        1862|                    197|\n",
      "|      46682|    Michael Rose|59.0|     Admin|    NULL|                        1862|                    197|\n",
      "|      64810|Victoria Sellers|36.0|     Admin| 89855.0|                        1862|                    197|\n",
      "|      53833|Christopher Leon|21.0|     Admin|101050.0|                        1862|                    197|\n",
      "|      33485|  Leonard Moreno|26.0|     Admin|107272.0|                        1862|                    197|\n",
      "+-----------+----------------+----+----------+--------+----------------------------+-----------------------+\n",
      "only showing top 20 rows\n",
      "\n"
     ]
    }
   ],
   "source": [
    "df_with_count.show()"
   ]
  },
  {
   "cell_type": "code",
   "execution_count": 542,
   "id": "b079f48f-212b-4c41-94d9-335fe536144d",
   "metadata": {},
   "outputs": [],
   "source": [
    "df_without_null_salary = df_with_count.where(\n",
    "    col(\"Total Null Salary Count\")/col(\"Total Employee in Department\") <= 0.2\n",
    ")"
   ]
  },
  {
   "cell_type": "code",
   "execution_count": 543,
   "id": "917b456c-55bb-4e75-a072-400635334a4c",
   "metadata": {},
   "outputs": [
    {
     "name": "stdout",
     "output_type": "stream",
     "text": [
      "+-----------+----------------+----+----------+--------+----------------------------+-----------------------+\n",
      "|Employee ID|            Name| Age|Department|  Salary|Total Employee in Department|Total Null Salary Count|\n",
      "+-----------+----------------+----+----------+--------+----------------------------+-----------------------+\n",
      "|      72076|   Yvonne Oliver|48.0|     Admin| 62671.0|                        1862|                    197|\n",
      "|      44431| Kenneth Francis|47.0|     Admin| 99175.0|                        1862|                    197|\n",
      "|      10402|   Gregory Cowan|44.0|     Admin|    NULL|                        1862|                    197|\n",
      "|       9997|   Randy Richard|55.0|     Admin|    NULL|                        1862|                    197|\n",
      "|      56698|     April Lopez|35.0|     Admin| 61424.0|                        1862|                    197|\n",
      "|       6150|    Angela Munoz|40.0|     Admin|103548.0|                        1862|                    197|\n",
      "|      97874|  James Stephens|34.0|     Admin|108703.0|                        1862|                    197|\n",
      "|       4399|   Linda Oconnor|35.0|     Admin| 50923.0|                        1862|                    197|\n",
      "|      77529|  Jeffery Dalton|54.0|     Admin| 69349.0|                        1862|                    197|\n",
      "|      74707|Jennifer Shaffer|60.0|     Admin| 69489.0|                        1862|                    197|\n",
      "|      22716|    Heidi Nelson|46.0|     Admin| 78320.0|                        1862|                    197|\n",
      "|       8009|Richard Shepherd|50.0|     Admin|    NULL|                        1862|                    197|\n",
      "|      29965|    Denise Brown|41.0|     Admin| 83613.0|                        1862|                    197|\n",
      "|      46164|  Jonathan Young|20.0|     Admin| 92920.0|                        1862|                    197|\n",
      "|      82920|   David Osborne|34.0|     Admin| 58779.0|                        1862|                    197|\n",
      "|      36616|   Alexander Ray|60.0|     Admin| 98927.0|                        1862|                    197|\n",
      "|      46682|    Michael Rose|59.0|     Admin|    NULL|                        1862|                    197|\n",
      "|      64810|Victoria Sellers|36.0|     Admin| 89855.0|                        1862|                    197|\n",
      "|      53833|Christopher Leon|21.0|     Admin|101050.0|                        1862|                    197|\n",
      "|      33485|  Leonard Moreno|26.0|     Admin|107272.0|                        1862|                    197|\n",
      "+-----------+----------------+----+----------+--------+----------------------------+-----------------------+\n",
      "only showing top 20 rows\n",
      "\n"
     ]
    }
   ],
   "source": [
    "df_without_null_salary.show()"
   ]
  },
  {
   "cell_type": "code",
   "execution_count": 544,
   "id": "4b730567-db43-4945-958d-e2cf0aa53b83",
   "metadata": {},
   "outputs": [
    {
     "name": "stdout",
     "output_type": "stream",
     "text": [
      "+----------+-----------+\n",
      "|Department|Total Count|\n",
      "+----------+-----------+\n",
      "|     Admin|       1862|\n",
      "|   Finance|       3545|\n",
      "|        HR|       1923|\n",
      "|        IT|       1947|\n",
      "| Marketing|       1872|\n",
      "|Operations|       1906|\n",
      "|     Sales|       1945|\n",
      "+----------+-----------+\n",
      "\n"
     ]
    }
   ],
   "source": [
    "df_without_null_salary.groupBy(\"Department\").agg(\n",
    "    count(\"Employee ID\").alias(\"Total Count\")\n",
    ").show()"
   ]
  },
  {
   "cell_type": "markdown",
   "id": "5aea7a88",
   "metadata": {},
   "source": []
  },
  {
   "cell_type": "markdown",
   "id": "2efcfc06",
   "metadata": {},
   "source": [
    "7. #### Save the Results:\n",
    "    -    Save the cleaned dataset as a new CSV file.\n",
    "    -    Save the aggregated data (average salary, total salary, etc.) for each department into a new CSV file."
   ]
  },
  {
   "cell_type": "code",
   "execution_count": 620,
   "id": "a72a5022-4a32-45b6-8cba-040d02e4a4b1",
   "metadata": {},
   "outputs": [],
   "source": [
    "df_cleaned.write.option(\n",
    "    \"Header\",True).mode(\n",
    "    \"overwrite\").csv(\n",
    "    \"output/cleaned_employee_data\"\n",
    "    )"
   ]
  },
  {
   "cell_type": "code",
   "execution_count": 622,
   "id": "8af28b6a-a69f-4e78-8cba-80f6e576795b",
   "metadata": {},
   "outputs": [],
   "source": [
    "df_aggregated = df_pyspark.groupBy(\"Department\").agg(\n",
    "    avg(\"Salary\").alias(\"Average Salary\"),\n",
    "    sum(\"Salary\").alias(\"Total Salary\"),\n",
    "    avg(\"Age\").alias(\"Average Age\")\n",
    ")"
   ]
  },
  {
   "cell_type": "code",
   "execution_count": 623,
   "id": "a9a5d1ed-4276-4a81-903d-f45419806eeb",
   "metadata": {},
   "outputs": [],
   "source": [
    "df_aggregated.write.option(\n",
    "    \"Header\",True).mode(\n",
    "    \"overwrite\").csv(\n",
    "    \"output/aggregated_employee_data\"\n",
    ")"
   ]
  }
 ],
 "metadata": {
  "kernelspec": {
   "display_name": "Python 3 (ipykernel)",
   "language": "python",
   "name": "python3"
  },
  "language_info": {
   "codemirror_mode": {
    "name": "ipython",
    "version": 3
   },
   "file_extension": ".py",
   "mimetype": "text/x-python",
   "name": "python",
   "nbconvert_exporter": "python",
   "pygments_lexer": "ipython3",
   "version": "3.12.7"
  }
 },
 "nbformat": 4,
 "nbformat_minor": 5
}
